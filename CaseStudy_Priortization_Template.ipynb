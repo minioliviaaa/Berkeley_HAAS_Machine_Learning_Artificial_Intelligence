{
 "cells": [
  {
   "cell_type": "markdown",
   "id": "368ab574",
   "metadata": {
    "id": "368ab574"
   },
   "source": [
    "<div class=\"alert alert-block alert-success\">\n",
    "    \n",
    " # Berkeley- PCMLAI: Module 1\n",
    "    \n",
    " 👨‍🏫 **Vikesh K**      \n",
    " #️⃣ **OH-01**\n",
    "  \n",
    "\n",
    "</div>"
   ]
  },
  {
   "cell_type": "markdown",
   "id": "G-v2BIFbVj-O",
   "metadata": {
    "id": "G-v2BIFbVj-O"
   },
   "source": []
  },
  {
   "cell_type": "markdown",
   "id": "c2188e81",
   "metadata": {
    "id": "c2188e81"
   },
   "source": [
    "# Case Study: Prioritise Product Development work"
   ]
  },
  {
   "cell_type": "markdown",
   "id": "944cc266",
   "metadata": {
    "id": "944cc266"
   },
   "source": [
    "![grubhub.png](attachment:grubhub.png)\n",
    "\n",
    "\n",
    "Given the below data which state should we focus our only available product development team on?\n",
    "\n",
    "Respond with your answer and reasoning. Where you don't have enough data to make a decision, make assumptions and list\n",
    "them in your response.\n",
    "\n",
    "**Data Dictionary**\n",
    "\n",
    "- `total_orders`: online food orders placed on grubhub.com\n",
    "- `visits`:  the number of unique times people have gone to grubhub.com\n",
    "- `revenue`: the amount of money we are making"
   ]
  },
  {
   "cell_type": "markdown",
   "id": "c5704478",
   "metadata": {
    "id": "c5704478"
   },
   "source": [
    "**Company Details**\n",
    "\n",
    "Grubhub is a part of Just Eat Takeaway.com, a leading global online food delivery marketplace, and features more than 365,000 restaurant partners in over 4,000 U.S. cities."
   ]
  },
  {
   "cell_type": "markdown",
   "id": "6fc8d9c6",
   "metadata": {
    "id": "6fc8d9c6"
   },
   "source": [
    "![image.png](attachment:image.png)"
   ]
  },
  {
   "cell_type": "markdown",
   "id": "m9uBL5gX-_QK",
   "metadata": {
    "id": "m9uBL5gX-_QK"
   },
   "source": [
    "# Loading the Data Set\n"
   ]
  },
  {
   "cell_type": "code",
   "execution_count": 1,
   "id": "c778cd36",
   "metadata": {
    "id": "c778cd36"
   },
   "outputs": [],
   "source": [
    "import pandas as pd\n",
    "import seaborn as sns\n",
    "import matplotlib.pyplot as plt\n",
    "\n",
    "pd.set_option('display.float_format', lambda x: '%.2f' % x)"
   ]
  },
  {
   "cell_type": "code",
   "execution_count": 3,
   "id": "BUopPH_G_KLu",
   "metadata": {
    "id": "BUopPH_G_KLu"
   },
   "outputs": [],
   "source": [
    "url = 'https://raw.githubusercontent.com/vkoul/data/main/misc/online_orders.csv'\n",
    "df = pd.read_csv(url)"
   ]
  },
  {
   "cell_type": "code",
   "execution_count": 5,
   "id": "m3BgzX-0_Tlu",
   "metadata": {
    "colab": {
     "base_uri": "https://localhost:8080/",
     "height": 206
    },
    "id": "m3BgzX-0_Tlu",
    "outputId": "8afc9f26-fc2e-41c3-d8f5-f0689ea0ba90"
   },
   "outputs": [
    {
     "data": {
      "text/html": [
       "<div>\n",
       "<style scoped>\n",
       "    .dataframe tbody tr th:only-of-type {\n",
       "        vertical-align: middle;\n",
       "    }\n",
       "\n",
       "    .dataframe tbody tr th {\n",
       "        vertical-align: top;\n",
       "    }\n",
       "\n",
       "    .dataframe thead th {\n",
       "        text-align: right;\n",
       "    }\n",
       "</style>\n",
       "<table border=\"1\" class=\"dataframe\">\n",
       "  <thead>\n",
       "    <tr style=\"text-align: right;\">\n",
       "      <th></th>\n",
       "      <th>date</th>\n",
       "      <th>state</th>\n",
       "      <th>total_orders</th>\n",
       "      <th>revenue</th>\n",
       "      <th>visits</th>\n",
       "    </tr>\n",
       "  </thead>\n",
       "  <tbody>\n",
       "    <tr>\n",
       "      <th>0</th>\n",
       "      <td>1/1/2014</td>\n",
       "      <td>CA</td>\n",
       "      <td>411</td>\n",
       "      <td>10369.53</td>\n",
       "      <td>17633</td>\n",
       "    </tr>\n",
       "    <tr>\n",
       "      <th>1</th>\n",
       "      <td>1/2/2014</td>\n",
       "      <td>CA</td>\n",
       "      <td>347</td>\n",
       "      <td>8754.81</td>\n",
       "      <td>15949</td>\n",
       "    </tr>\n",
       "    <tr>\n",
       "      <th>2</th>\n",
       "      <td>1/3/2014</td>\n",
       "      <td>CA</td>\n",
       "      <td>522</td>\n",
       "      <td>13170.06</td>\n",
       "      <td>11731</td>\n",
       "    </tr>\n",
       "    <tr>\n",
       "      <th>3</th>\n",
       "      <td>1/4/2014</td>\n",
       "      <td>CA</td>\n",
       "      <td>635</td>\n",
       "      <td>16021.05</td>\n",
       "      <td>16728</td>\n",
       "    </tr>\n",
       "    <tr>\n",
       "      <th>4</th>\n",
       "      <td>1/5/2014</td>\n",
       "      <td>CA</td>\n",
       "      <td>214</td>\n",
       "      <td>5399.22</td>\n",
       "      <td>12570</td>\n",
       "    </tr>\n",
       "  </tbody>\n",
       "</table>\n",
       "</div>"
      ],
      "text/plain": [
       "       date state  total_orders  revenue  visits\n",
       "0  1/1/2014    CA           411 10369.53   17633\n",
       "1  1/2/2014    CA           347  8754.81   15949\n",
       "2  1/3/2014    CA           522 13170.06   11731\n",
       "3  1/4/2014    CA           635 16021.05   16728\n",
       "4  1/5/2014    CA           214  5399.22   12570"
      ]
     },
     "execution_count": 5,
     "metadata": {},
     "output_type": "execute_result"
    }
   ],
   "source": [
    "df.head()"
   ]
  },
  {
   "cell_type": "code",
   "execution_count": 7,
   "id": "5c8f399f",
   "metadata": {
    "id": "5c8f399f"
   },
   "outputs": [
    {
     "data": {
      "text/html": [
       "<div>\n",
       "<style scoped>\n",
       "    .dataframe tbody tr th:only-of-type {\n",
       "        vertical-align: middle;\n",
       "    }\n",
       "\n",
       "    .dataframe tbody tr th {\n",
       "        vertical-align: top;\n",
       "    }\n",
       "\n",
       "    .dataframe thead th {\n",
       "        text-align: right;\n",
       "    }\n",
       "</style>\n",
       "<table border=\"1\" class=\"dataframe\">\n",
       "  <thead>\n",
       "    <tr style=\"text-align: right;\">\n",
       "      <th></th>\n",
       "      <th>date</th>\n",
       "      <th>state</th>\n",
       "      <th>total_orders</th>\n",
       "      <th>revenue</th>\n",
       "      <th>visits</th>\n",
       "    </tr>\n",
       "  </thead>\n",
       "  <tbody>\n",
       "    <tr>\n",
       "      <th>676</th>\n",
       "      <td>5/14/2014</td>\n",
       "      <td>IA</td>\n",
       "      <td>20033</td>\n",
       "      <td>6823640.46</td>\n",
       "      <td>1534496</td>\n",
       "    </tr>\n",
       "    <tr>\n",
       "      <th>351</th>\n",
       "      <td>6/20/2014</td>\n",
       "      <td>IL</td>\n",
       "      <td>21906</td>\n",
       "      <td>484341.66</td>\n",
       "      <td>177876</td>\n",
       "    </tr>\n",
       "    <tr>\n",
       "      <th>427</th>\n",
       "      <td>3/7/2014</td>\n",
       "      <td>NYC</td>\n",
       "      <td>14198</td>\n",
       "      <td>1315018.76</td>\n",
       "      <td>213361</td>\n",
       "    </tr>\n",
       "    <tr>\n",
       "      <th>142</th>\n",
       "      <td>5/23/2014</td>\n",
       "      <td>CA</td>\n",
       "      <td>538</td>\n",
       "      <td>13573.74</td>\n",
       "      <td>23487</td>\n",
       "    </tr>\n",
       "    <tr>\n",
       "      <th>331</th>\n",
       "      <td>5/31/2014</td>\n",
       "      <td>IL</td>\n",
       "      <td>18455</td>\n",
       "      <td>408040.05</td>\n",
       "      <td>149437</td>\n",
       "    </tr>\n",
       "    <tr>\n",
       "      <th>483</th>\n",
       "      <td>5/2/2014</td>\n",
       "      <td>NYC</td>\n",
       "      <td>19040</td>\n",
       "      <td>2829724.80</td>\n",
       "      <td>284233</td>\n",
       "    </tr>\n",
       "    <tr>\n",
       "      <th>402</th>\n",
       "      <td>2/10/2014</td>\n",
       "      <td>NYC</td>\n",
       "      <td>16032</td>\n",
       "      <td>1084083.84</td>\n",
       "      <td>254527</td>\n",
       "    </tr>\n",
       "    <tr>\n",
       "      <th>598</th>\n",
       "      <td>2/25/2014</td>\n",
       "      <td>IA</td>\n",
       "      <td>21330</td>\n",
       "      <td>5601684.60</td>\n",
       "      <td>1673365</td>\n",
       "    </tr>\n",
       "    <tr>\n",
       "      <th>499</th>\n",
       "      <td>5/18/2014</td>\n",
       "      <td>NYC</td>\n",
       "      <td>21184</td>\n",
       "      <td>3487310.08</td>\n",
       "      <td>402423</td>\n",
       "    </tr>\n",
       "    <tr>\n",
       "      <th>13</th>\n",
       "      <td>1/14/2014</td>\n",
       "      <td>CA</td>\n",
       "      <td>640</td>\n",
       "      <td>16147.20</td>\n",
       "      <td>26899</td>\n",
       "    </tr>\n",
       "  </tbody>\n",
       "</table>\n",
       "</div>"
      ],
      "text/plain": [
       "          date state  total_orders    revenue   visits\n",
       "676  5/14/2014    IA         20033 6823640.46  1534496\n",
       "351  6/20/2014    IL         21906  484341.66   177876\n",
       "427   3/7/2014   NYC         14198 1315018.76   213361\n",
       "142  5/23/2014    CA           538   13573.74    23487\n",
       "331  5/31/2014    IL         18455  408040.05   149437\n",
       "483   5/2/2014   NYC         19040 2829724.80   284233\n",
       "402  2/10/2014   NYC         16032 1084083.84   254527\n",
       "598  2/25/2014    IA         21330 5601684.60  1673365\n",
       "499  5/18/2014   NYC         21184 3487310.08   402423\n",
       "13   1/14/2014    CA           640   16147.20    26899"
      ]
     },
     "execution_count": 7,
     "metadata": {},
     "output_type": "execute_result"
    }
   ],
   "source": [
    "df.sample(10)"
   ]
  },
  {
   "cell_type": "code",
   "execution_count": null,
   "id": "617a14f9",
   "metadata": {
    "id": "617a14f9"
   },
   "outputs": [],
   "source": []
  },
  {
   "cell_type": "code",
   "execution_count": null,
   "id": "cd6237f4",
   "metadata": {
    "id": "cd6237f4"
   },
   "outputs": [],
   "source": []
  },
  {
   "cell_type": "code",
   "execution_count": null,
   "id": "027f2ec4",
   "metadata": {
    "id": "027f2ec4"
   },
   "outputs": [],
   "source": []
  }
 ],
 "metadata": {
  "colab": {
   "provenance": []
  },
  "kernelspec": {
   "display_name": "Python 3 (ipykernel)",
   "language": "python",
   "name": "python3"
  },
  "language_info": {
   "codemirror_mode": {
    "name": "ipython",
    "version": 3
   },
   "file_extension": ".py",
   "mimetype": "text/x-python",
   "name": "python",
   "nbconvert_exporter": "python",
   "pygments_lexer": "ipython3",
   "version": "3.12.4"
  },
  "toc": {
   "base_numbering": 1,
   "nav_menu": {},
   "number_sections": true,
   "sideBar": true,
   "skip_h1_title": false,
   "title_cell": "Table of Contents",
   "title_sidebar": "Contents",
   "toc_cell": false,
   "toc_position": {},
   "toc_section_display": true,
   "toc_window_display": false
  }
 },
 "nbformat": 4,
 "nbformat_minor": 5
}
